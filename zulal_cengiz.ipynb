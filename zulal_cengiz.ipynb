{
 "cells": [
  {
   "cell_type": "code",
   "execution_count": 9,
   "id": "4eb6b356",
   "metadata": {},
   "outputs": [
    {
     "name": "stdout",
     "output_type": "stream",
     "text": [
      "bb%+%+bb a+%cc abbcc +^%^%^+\n"
     ]
    }
   ],
   "source": [
    "text = \"bb%+%+bb a+%cc abbcc +^%^%^+\"\n",
    "print(text)\n"
   ]
  },
  {
   "cell_type": "code",
   "execution_count": 4,
   "id": "ddc1ef95",
   "metadata": {},
   "outputs": [
    {
     "name": "stdout",
     "output_type": "stream",
     "text": [
      "['bb%+%+bb', 'a+%cc']\n"
     ]
    }
   ],
   "source": [
    "import re\n",
    "match = re.findall(r\"[a-zA-Z]+[^a-zA-Z0-9]+[a-zA-Z]+\",text)\n",
    "if(match):\n",
    "    print(match)\n",
    "else:\n",
    "    print(\"Not found\")"
   ]
  },
  {
   "cell_type": "code",
   "execution_count": 11,
   "id": "1a0a05fc",
   "metadata": {},
   "outputs": [
    {
     "name": "stdout",
     "output_type": "stream",
     "text": [
      "asdsd 215456 asd45 4885 +%^+%%\n"
     ]
    }
   ],
   "source": [
    "text2 = \"asdsd 215456 asd45 4885 +%^+%%\"\n",
    "print(text2)"
   ]
  },
  {
   "cell_type": "code",
   "execution_count": 10,
   "id": "b16bacaa",
   "metadata": {},
   "outputs": [
    {
     "name": "stdout",
     "output_type": "stream",
     "text": [
      "Not found\n"
     ]
    }
   ],
   "source": [
    "match2 = re.findall(r\"^[a-zA-Z]+$|^[\\d]+$\",text2)\n",
    "if(match2):\n",
    "    print(match2)\n",
    "else:\n",
    "    print(\"Not found\")"
   ]
  }
 ],
 "metadata": {
  "kernelspec": {
   "display_name": "Python 3 (ipykernel)",
   "language": "python",
   "name": "python3"
  },
  "language_info": {
   "codemirror_mode": {
    "name": "ipython",
    "version": 3
   },
   "file_extension": ".py",
   "mimetype": "text/x-python",
   "name": "python",
   "nbconvert_exporter": "python",
   "pygments_lexer": "ipython3",
   "version": "3.9.13"
  }
 },
 "nbformat": 4,
 "nbformat_minor": 5
}
